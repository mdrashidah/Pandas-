{
 "cells": [
  {
   "cell_type": "markdown",
   "id": "3f6c1b9f",
   "metadata": {},
   "source": [
    "## **Chapter 5) Group By Aggregation**"
   ]
  },
  {
   "cell_type": "code",
   "execution_count": 1,
   "id": "54bb6d01",
   "metadata": {},
   "outputs": [],
   "source": [
    "import pandas as pd\n",
    "import numpy as np"
   ]
  },
  {
   "cell_type": "markdown",
   "id": "b57feec8",
   "metadata": {},
   "source": [
    "**1) GroupBy**"
   ]
  },
  {
   "cell_type": "code",
   "execution_count": 2,
   "id": "3b6332f7",
   "metadata": {},
   "outputs": [],
   "source": [
    "data = {\n",
    "    'Category': ['A', 'B', 'A', 'B', 'A', 'B', 'A', 'B'],\n",
    "    'Store': ['S1', 'S1', 'S2', 'S2', 'S1', 'S2', 'S2', 'S1'],\n",
    "    'Sales': [100, 200, 150, 250, 120, 180, 200, 300],\n",
    "    'Quantity': [10, 15, 12, 18, 8, 20, 15, 25],\n",
    "    'Date': pd.date_range('2023-01-01', periods=8)\n",
    "}\n",
    "df = pd.DataFrame(data)"
   ]
  },
  {
   "cell_type": "code",
   "execution_count": 3,
   "id": "d5020896",
   "metadata": {},
   "outputs": [
    {
     "data": {
      "text/html": [
       "<div>\n",
       "<style scoped>\n",
       "    .dataframe tbody tr th:only-of-type {\n",
       "        vertical-align: middle;\n",
       "    }\n",
       "\n",
       "    .dataframe tbody tr th {\n",
       "        vertical-align: top;\n",
       "    }\n",
       "\n",
       "    .dataframe thead th {\n",
       "        text-align: right;\n",
       "    }\n",
       "</style>\n",
       "<table border=\"1\" class=\"dataframe\">\n",
       "  <thead>\n",
       "    <tr style=\"text-align: right;\">\n",
       "      <th></th>\n",
       "      <th>Category</th>\n",
       "      <th>Store</th>\n",
       "      <th>Sales</th>\n",
       "      <th>Quantity</th>\n",
       "      <th>Date</th>\n",
       "    </tr>\n",
       "  </thead>\n",
       "  <tbody>\n",
       "    <tr>\n",
       "      <th>0</th>\n",
       "      <td>A</td>\n",
       "      <td>S1</td>\n",
       "      <td>100</td>\n",
       "      <td>10</td>\n",
       "      <td>2023-01-01</td>\n",
       "    </tr>\n",
       "    <tr>\n",
       "      <th>1</th>\n",
       "      <td>B</td>\n",
       "      <td>S1</td>\n",
       "      <td>200</td>\n",
       "      <td>15</td>\n",
       "      <td>2023-01-02</td>\n",
       "    </tr>\n",
       "    <tr>\n",
       "      <th>2</th>\n",
       "      <td>A</td>\n",
       "      <td>S2</td>\n",
       "      <td>150</td>\n",
       "      <td>12</td>\n",
       "      <td>2023-01-03</td>\n",
       "    </tr>\n",
       "    <tr>\n",
       "      <th>3</th>\n",
       "      <td>B</td>\n",
       "      <td>S2</td>\n",
       "      <td>250</td>\n",
       "      <td>18</td>\n",
       "      <td>2023-01-04</td>\n",
       "    </tr>\n",
       "    <tr>\n",
       "      <th>4</th>\n",
       "      <td>A</td>\n",
       "      <td>S1</td>\n",
       "      <td>120</td>\n",
       "      <td>8</td>\n",
       "      <td>2023-01-05</td>\n",
       "    </tr>\n",
       "    <tr>\n",
       "      <th>5</th>\n",
       "      <td>B</td>\n",
       "      <td>S2</td>\n",
       "      <td>180</td>\n",
       "      <td>20</td>\n",
       "      <td>2023-01-06</td>\n",
       "    </tr>\n",
       "    <tr>\n",
       "      <th>6</th>\n",
       "      <td>A</td>\n",
       "      <td>S2</td>\n",
       "      <td>200</td>\n",
       "      <td>15</td>\n",
       "      <td>2023-01-07</td>\n",
       "    </tr>\n",
       "    <tr>\n",
       "      <th>7</th>\n",
       "      <td>B</td>\n",
       "      <td>S1</td>\n",
       "      <td>300</td>\n",
       "      <td>25</td>\n",
       "      <td>2023-01-08</td>\n",
       "    </tr>\n",
       "  </tbody>\n",
       "</table>\n",
       "</div>"
      ],
      "text/plain": [
       "  Category Store  Sales  Quantity       Date\n",
       "0        A    S1    100        10 2023-01-01\n",
       "1        B    S1    200        15 2023-01-02\n",
       "2        A    S2    150        12 2023-01-03\n",
       "3        B    S2    250        18 2023-01-04\n",
       "4        A    S1    120         8 2023-01-05\n",
       "5        B    S2    180        20 2023-01-06\n",
       "6        A    S2    200        15 2023-01-07\n",
       "7        B    S1    300        25 2023-01-08"
      ]
     },
     "execution_count": 3,
     "metadata": {},
     "output_type": "execute_result"
    }
   ],
   "source": [
    "df"
   ]
  },
  {
   "cell_type": "markdown",
   "id": "32b85b69",
   "metadata": {},
   "source": [
    "* In pandas, groupby is used to split your data into groups based on one or more columns, and then apply some aggregation (like sum(), mean(), count(), etc.) or transformation."
   ]
  },
  {
   "cell_type": "code",
   "execution_count": 4,
   "id": "d5fef19c",
   "metadata": {},
   "outputs": [
    {
     "data": {
      "text/plain": [
       "<pandas.core.groupby.generic.DataFrameGroupBy object at 0x000002C8C1EDC440>"
      ]
     },
     "execution_count": 4,
     "metadata": {},
     "output_type": "execute_result"
    }
   ],
   "source": [
    "# group them by Category and calculate the total sales\n",
    "cat = df.groupby('Category')\n",
    "cat\n"
   ]
  },
  {
   "cell_type": "markdown",
   "id": "ee3f295f",
   "metadata": {},
   "source": [
    "we will recieve *'<pandas.core.groupby.generic.DataFrameGroupBy object at 0x00000214F4DF8EC0>'* & to access this data we will run a loop"
   ]
  },
  {
   "cell_type": "markdown",
   "id": "f464e36a",
   "metadata": {},
   "source": []
  },
  {
   "cell_type": "markdown",
   "id": "51f1570b",
   "metadata": {},
   "source": [
    "***Q-1) group them according to category wise and find the sum of the total sales***"
   ]
  },
  {
   "cell_type": "code",
   "execution_count": 5,
   "id": "6c8a87bb",
   "metadata": {},
   "outputs": [
    {
     "name": "stdout",
     "output_type": "stream",
     "text": [
      "A\n",
      "  Category Store  Sales  Quantity       Date\n",
      "0        A    S1    100        10 2023-01-01\n",
      "2        A    S2    150        12 2023-01-03\n",
      "4        A    S1    120         8 2023-01-05\n",
      "6        A    S2    200        15 2023-01-07\n",
      "\n",
      "B\n",
      "  Category Store  Sales  Quantity       Date\n",
      "1        B    S1    200        15 2023-01-02\n",
      "3        B    S2    250        18 2023-01-04\n",
      "5        B    S2    180        20 2023-01-06\n",
      "7        B    S1    300        25 2023-01-08\n",
      "\n"
     ]
    }
   ],
   "source": [
    "for i, v in cat:\n",
    "    print(i)\n",
    "    print(v)\n",
    "    print()"
   ]
  },
  {
   "cell_type": "code",
   "execution_count": 6,
   "id": "7d3990a0",
   "metadata": {},
   "outputs": [
    {
     "data": {
      "text/plain": [
       "Category\n",
       "A    570\n",
       "B    930\n",
       "Name: Sales, dtype: int64"
      ]
     },
     "execution_count": 6,
     "metadata": {},
     "output_type": "execute_result"
    }
   ],
   "source": [
    "cat1 = df.groupby('Category')['Sales'].sum()\n",
    "cat1"
   ]
  },
  {
   "cell_type": "code",
   "execution_count": 7,
   "id": "00b4103f",
   "metadata": {},
   "outputs": [
    {
     "data": {
      "text/plain": [
       "Category\n",
       "A    45\n",
       "B    78\n",
       "Name: Quantity, dtype: int64"
      ]
     },
     "execution_count": 7,
     "metadata": {},
     "output_type": "execute_result"
    }
   ],
   "source": [
    "cat1 = df.groupby('Category')['Quantity'].sum()\n",
    "cat1"
   ]
  },
  {
   "cell_type": "markdown",
   "id": "1e5205b6",
   "metadata": {},
   "source": []
  },
  {
   "cell_type": "markdown",
   "id": "0cb924eb",
   "metadata": {},
   "source": [
    "***Q-2) group them according to Store wise and find the sum of the total sales***"
   ]
  },
  {
   "cell_type": "code",
   "execution_count": null,
   "id": "ded78315",
   "metadata": {},
   "outputs": [
    {
     "name": "stdout",
     "output_type": "stream",
     "text": [
      "S1\n",
      "  Category Store  Sales  Quantity       Date\n",
      "0        A    S1    100        10 2023-01-01\n",
      "1        B    S1    200        15 2023-01-02\n",
      "4        A    S1    120         8 2023-01-05\n",
      "7        B    S1    300        25 2023-01-08\n",
      "\n",
      "S2\n",
      "  Category Store  Sales  Quantity       Date\n",
      "2        A    S2    150        12 2023-01-03\n",
      "3        B    S2    250        18 2023-01-04\n",
      "5        B    S2    180        20 2023-01-06\n",
      "6        A    S2    200        15 2023-01-07\n",
      "\n"
     ]
    }
   ],
   "source": [
    "cat2 = df.groupby('Store')\n",
    "for i, v in cat2:\n",
    "    print(i)\n",
    "    print(v)\n",
    "    print()"
   ]
  },
  {
   "cell_type": "code",
   "execution_count": 18,
   "id": "43c97158",
   "metadata": {},
   "outputs": [
    {
     "name": "stdout",
     "output_type": "stream",
     "text": [
      "S1\n",
      "0    100\n",
      "1    200\n",
      "4    120\n",
      "7    300\n",
      "Name: Sales, dtype: int64\n",
      "\n",
      "S2\n",
      "2    150\n",
      "3    250\n",
      "5    180\n",
      "6    200\n",
      "Name: Sales, dtype: int64\n",
      "\n"
     ]
    }
   ],
   "source": [
    "cat2 = df.groupby('Store')['Sales']\n",
    "for i,v in cat2:\n",
    "    print(i)\n",
    "    print(v)\n",
    "    print()"
   ]
  },
  {
   "cell_type": "code",
   "execution_count": 14,
   "id": "0e056db9",
   "metadata": {},
   "outputs": [
    {
     "data": {
      "text/plain": [
       "Store\n",
       "S1    720\n",
       "S2    780\n",
       "Name: Sales, dtype: int64"
      ]
     },
     "execution_count": 14,
     "metadata": {},
     "output_type": "execute_result"
    }
   ],
   "source": [
    "cat2 = df.groupby('Store')['Sales'].sum()\n",
    "cat2"
   ]
  },
  {
   "cell_type": "markdown",
   "id": "b0a4d980",
   "metadata": {},
   "source": [
    "*Q-3) Group by multiple columns & Group by Category and Store*"
   ]
  },
  {
   "cell_type": "code",
   "execution_count": 31,
   "id": "280b877f",
   "metadata": {},
   "outputs": [
    {
     "data": {
      "text/plain": [
       "Category  Store\n",
       "A         S1       220\n",
       "          S2       350\n",
       "B         S1       500\n",
       "          S2       430\n",
       "Name: Sales, dtype: int64"
      ]
     },
     "execution_count": 31,
     "metadata": {},
     "output_type": "execute_result"
    }
   ],
   "source": [
    "cat2 = df.groupby(['Category', 'Store'])['Sales'].sum()\n",
    "cat2"
   ]
  },
  {
   "cell_type": "markdown",
   "id": "36bc47fb",
   "metadata": {},
   "source": [
    "**2) Aggregation**"
   ]
  },
  {
   "cell_type": "markdown",
   "id": "6a3d3a8e",
   "metadata": {},
   "source": [
    "Aggregation in pandas = combining many values into one (like sum, mean, count) — usually after grouping data.\n",
    "\n",
    "Example:\n",
    "👉 If you have employees with salaries, aggregation lets you find average salary per department."
   ]
  },
  {
   "cell_type": "code",
   "execution_count": 24,
   "id": "d2d8976e",
   "metadata": {},
   "outputs": [
    {
     "data": {
      "text/plain": [
       "np.float64(187.5)"
      ]
     },
     "execution_count": 24,
     "metadata": {},
     "output_type": "execute_result"
    }
   ],
   "source": [
    "df['Sales'].mean()"
   ]
  },
  {
   "cell_type": "markdown",
   "id": "ea1f67be",
   "metadata": {},
   "source": [
    "(187.5) the output"
   ]
  },
  {
   "cell_type": "code",
   "execution_count": 26,
   "id": "ee9d08a4",
   "metadata": {},
   "outputs": [
    {
     "data": {
      "text/plain": [
       "0    200\n",
       "Name: Sales, dtype: int64"
      ]
     },
     "execution_count": 26,
     "metadata": {},
     "output_type": "execute_result"
    }
   ],
   "source": [
    "df['Sales'].mode()"
   ]
  },
  {
   "cell_type": "code",
   "execution_count": 28,
   "id": "2e641251",
   "metadata": {},
   "outputs": [
    {
     "data": {
      "text/plain": [
       "np.float64(190.0)"
      ]
     },
     "execution_count": 28,
     "metadata": {},
     "output_type": "execute_result"
    }
   ],
   "source": [
    "df['Sales'].median()"
   ]
  },
  {
   "cell_type": "code",
   "execution_count": 29,
   "id": "c6cb6cfc",
   "metadata": {},
   "outputs": [
    {
     "data": {
      "text/plain": [
       "np.int64(1500)"
      ]
     },
     "execution_count": 29,
     "metadata": {},
     "output_type": "execute_result"
    }
   ],
   "source": [
    "df['Sales'].sum()"
   ]
  },
  {
   "cell_type": "code",
   "execution_count": 32,
   "id": "bb363f5d",
   "metadata": {},
   "outputs": [
    {
     "data": {
      "text/plain": [
       "sum       1500.000000\n",
       "mean       187.500000\n",
       "min        100.000000\n",
       "max        300.000000\n",
       "count        8.000000\n",
       "std         66.062741\n",
       "median     190.000000\n",
       "Name: Sales, dtype: float64"
      ]
     },
     "execution_count": 32,
     "metadata": {},
     "output_type": "execute_result"
    }
   ],
   "source": [
    "df['Sales'].agg(['sum', 'mean', 'min', 'max', 'count', 'std', 'median'])"
   ]
  },
  {
   "cell_type": "markdown",
   "id": "ec8ee7d4",
   "metadata": {},
   "source": [
    "' .agg ' is a function that is used to perform multiple aggregations on a group of data."
   ]
  },
  {
   "cell_type": "markdown",
   "id": "437ae291",
   "metadata": {},
   "source": [
    "* # TO Easily understand what is group by and aggregation &  the use of **'( )' and '[ ]'** in PaNDaS"
   ]
  },
  {
   "cell_type": "markdown",
   "id": "6a88dcd4",
   "metadata": {},
   "source": [
    "🎒 **Imagine your school bag**\n",
    "\n",
    "--------------------------------------------------------------\n",
    "\n",
    "Inside the bag (DataFrame), you have books (columns) and pages (rows).\n",
    "\n",
    "You can use the groupby() function to group the books by their type (e.g., textbooks, notebooks, etc.). \n",
    "\n",
    "--------------------------------------------------------------\n",
    "\n",
    "Then, you can use the aggregate() function to perform different operations on the pages within each group.\n",
    "\n",
    "--------------------------------------------------------------"
   ]
  },
  {
   "cell_type": "markdown",
   "id": "6c6e11ad",
   "metadata": {},
   "source": [
    "📌 Square Brackets [ ] → Picking Things\n",
    "\n",
    "👉 Like opening the bag and pulling something out.\n",
    "\n",
    "Examples:\n",
    "\n",
    "df['Math'] → you pull out the Math book (1 column).\n",
    "\n",
    "df[['Math','Science']] → you pull out 2 books (2 columns).\n",
    "\n",
    "df[0:3] → you take the first 3 pages (rows).\n",
    "\n",
    "df[df['Math'] > 80] → you only keep the pages where Math marks > 80.\n",
    "\n",
    "So: [ ] = \"pick or filter\"."
   ]
  },
  {
   "cell_type": "markdown",
   "id": "1d7d6276",
   "metadata": {},
   "source": [
    "**📌 Parentheses ( ) → Doing Actions**\n",
    "\n",
    "👉 Like using the book (reading, calculating, flipping pages).\n",
    "\n",
    "--------------------------------------------------------------\n",
    "Examples:\n",
    "\n",
    "df.head(3) → you read the first 3 pages.\n",
    "\n",
    "df['Math'].mean( ) → you calculate average marks in Math.\n",
    "\n",
    "df.groupby('Class').sum( ) → you add up marks by Class.\n",
    "\n",
    "So: ( ) = \"perform an action\"."
   ]
  },
  {
   "cell_type": "markdown",
   "id": "26c4e5cf",
   "metadata": {},
   "source": [
    "--------------------------------------------------------------\n",
    "**✅ Easy Memory**\n",
    "\n",
    "[ ] = “Which thing?”\n",
    "\n",
    "( ) = “What to do with it?”"
   ]
  },
  {
   "cell_type": "markdown",
   "id": "1f8763a9",
   "metadata": {},
   "source": [
    "--------------------------------------------------------------\n",
    "⚡ Example combining both:\n",
    "\n",
    "df['Math'].mean()\n",
    "\n",
    "\n",
    "df['Math'] → pick the Math column.\n",
    "\n",
    ".mean() → calculate its average."
   ]
  }
 ],
 "metadata": {
  "kernelspec": {
   "display_name": ".venv",
   "language": "python",
   "name": "python3"
  },
  "language_info": {
   "codemirror_mode": {
    "name": "ipython",
    "version": 3
   },
   "file_extension": ".py",
   "mimetype": "text/x-python",
   "name": "python",
   "nbconvert_exporter": "python",
   "pygments_lexer": "ipython3",
   "version": "3.13.5"
  }
 },
 "nbformat": 4,
 "nbformat_minor": 5
}
