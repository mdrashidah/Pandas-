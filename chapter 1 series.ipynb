{
 "cells": [
  {
   "cell_type": "markdown",
   "id": "fd589c9b",
   "metadata": {},
   "source": [
    "## CHAPTER 1: SERIES"
   ]
  },
  {
   "cell_type": "code",
   "execution_count": 1,
   "id": "74bc301c",
   "metadata": {},
   "outputs": [],
   "source": [
    "import numpy as np\n",
    "import pandas as pd"
   ]
  },
  {
   "cell_type": "code",
   "execution_count": 2,
   "id": "68bfc9e9",
   "metadata": {},
   "outputs": [],
   "source": [
    "labels = ['A', 'B', 'C', 'D']\n",
    "my_list = [10, 20, 30, 40]\n",
    "arr = np.array([10, 20, 30, 40])\n",
    "dic = {1: 10, 2: 20, 3: 30, 4: 40}"
   ]
  },
  {
   "cell_type": "code",
   "execution_count": 3,
   "id": "9610ab09",
   "metadata": {},
   "outputs": [
    {
     "data": {
      "text/plain": [
       "0    10\n",
       "1    20\n",
       "2    30\n",
       "3    40\n",
       "dtype: int64"
      ]
     },
     "execution_count": 3,
     "metadata": {},
     "output_type": "execute_result"
    }
   ],
   "source": [
    "pd.Series(data = my_list)"
   ]
  },
  {
   "cell_type": "markdown",
   "id": "01604b30",
   "metadata": {},
   "source": [
    "where this 0,1,2,3 is the index of the series\n",
    "\n",
    "\n",
    "\n",
    "\n",
    "\n"
   ]
  },
  {
   "cell_type": "markdown",
   "id": "ada70ee5",
   "metadata": {},
   "source": [
    "**-->we can also set custom index in a series**"
   ]
  },
  {
   "cell_type": "code",
   "execution_count": 4,
   "id": "21c72090",
   "metadata": {},
   "outputs": [
    {
     "data": {
      "text/plain": [
       "A    10\n",
       "B    20\n",
       "C    30\n",
       "D    40\n",
       "dtype: int64"
      ]
     },
     "execution_count": 4,
     "metadata": {},
     "output_type": "execute_result"
    }
   ],
   "source": [
    "pd.Series(index=labels, data=my_list)"
   ]
  },
  {
   "cell_type": "markdown",
   "id": "2507b377",
   "metadata": {},
   "source": [
    "& we can also set the labels with the help of arrays also but only with the 1D arrays can not be possible with 2d or other arrays."
   ]
  }
 ],
 "metadata": {
  "kernelspec": {
   "display_name": ".venv",
   "language": "python",
   "name": "python3"
  },
  "language_info": {
   "codemirror_mode": {
    "name": "ipython",
    "version": 3
   },
   "file_extension": ".py",
   "mimetype": "text/x-python",
   "name": "python",
   "nbconvert_exporter": "python",
   "pygments_lexer": "ipython3",
   "version": "3.13.5"
  }
 },
 "nbformat": 4,
 "nbformat_minor": 5
}
